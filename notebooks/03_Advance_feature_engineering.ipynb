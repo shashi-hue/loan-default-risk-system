{
  "nbformat": 4,
  "nbformat_minor": 0,
  "metadata": {
    "colab": {
      "provenance": [],
      "gpuType": "T4"
    },
    "kernelspec": {
      "name": "python3",
      "display_name": "Python 3"
    },
    "language_info": {
      "name": "python"
    },
    "accelerator": "GPU"
  },
  "cells": [
    {
      "cell_type": "code",
      "execution_count": 43,
      "metadata": {
        "id": "lpPXXZjrHzAk"
      },
      "outputs": [],
      "source": [
        "import pandas as pd\n",
        "import numpy as np\n",
        "import matplotlib.pyplot as plt\n",
        "import seaborn as sns\n",
        "plt.rcParams['figure.figsize'] = (9,6)\n",
        "from sklearn.ensemble import RandomForestClassifier\n",
        "import xgboost as xgb\n",
        "from sklearn.preprocessing import StandardScaler\n",
        "from sklearn.model_selection import train_test_split\n",
        "from sklearn.metrics import classification_report, confusion_matrix, roc_auc_score, roc_curve"
      ]
    },
    {
      "cell_type": "markdown",
      "source": [
        "Using all features except containing data leakage."
      ],
      "metadata": {
        "id": "WSO229nT15ds"
      }
    },
    {
      "cell_type": "code",
      "source": [
        "model_features = [\n",
        "    # Borrower info\n",
        "    'annual_inc', 'verification_status', 'emp_length', 'home_ownership', 'addr_state',\n",
        "    'dti', 'purpose', 'application_type', 'emp_title', 'desc',\n",
        "\n",
        "    # Credit risk indicators\n",
        "    'fico_range_low', 'fico_range_high', 'inq_last_6mths', 'mths_since_last_delinq',\n",
        "    'mths_since_last_record', 'open_acc', 'total_acc', 'pub_rec', 'revol_bal',\n",
        "    'revol_util', 'collections_12_mths_ex_med', 'mths_since_last_major_derog',\n",
        "    'delinq_2yrs', 'acc_now_delinq', 'num_tl_90g_dpd_24m', 'policy_code',\n",
        "    'tot_coll_amt', 'tot_cur_bal', 'open_acc_6m', 'open_act_il', 'open_il_12m',\n",
        "    'open_il_24m', 'mths_since_rcnt_il', 'total_bal_il', 'il_util', 'open_rv_12m',\n",
        "    'open_rv_24m', 'max_bal_bc', 'all_util', 'total_rev_hi_lim', 'inq_fi',\n",
        "    'total_cu_tl', 'inq_last_12m', 'acc_open_past_24mths', 'avg_cur_bal',\n",
        "    'bc_open_to_buy', 'bc_util', 'chargeoff_within_12_mths', 'delinq_amnt',\n",
        "    'mo_sin_old_il_acct', 'mo_sin_old_rev_tl_op', 'mo_sin_rcnt_rev_tl_op',\n",
        "    'mo_sin_rcnt_tl', 'earliest_cr_line', 'mort_acc', 'mths_since_recent_bc',\n",
        "    'mths_since_recent_bc_dlq', 'mths_since_recent_inq',\n",
        "    'mths_since_recent_revol_delinq', 'num_accts_ever_120_pd', 'num_actv_bc_tl',\n",
        "    'num_actv_rev_tl', 'num_bc_sats', 'num_bc_tl', 'num_il_tl', 'num_op_rev_tl',\n",
        "    'num_rev_accts', 'num_rev_tl_bal_gt_0', 'num_sats', 'num_tl_120dpd_2m',\n",
        "    'num_tl_30dpd', 'num_tl_op_past_12m', 'pct_tl_nvr_dlq',\n",
        "    'percent_bc_gt_75', 'pub_rec_bankruptcies', 'tax_liens', 'tot_hi_cred_lim',\n",
        "    'total_bal_ex_mort', 'total_bc_limit', 'total_il_high_credit_limit','issue_d',\n",
        "\n",
        "    # Loan application terms\n",
        "    'loan_amnt', 'int_rate', 'term', 'installment', 'grade', 'sub_grade',\n",
        "\n",
        "    # joint and secondary applicant info\n",
        "    'annual_inc_joint', 'dti_joint', 'verification_status_joint', 'revol_bal_joint',\n",
        "    'sec_app_fico_range_low', 'sec_app_fico_range_high', 'sec_app_earliest_cr_line',\n",
        "    'sec_app_inq_last_6mths', 'sec_app_mort_acc', 'sec_app_open_acc',\n",
        "    'sec_app_revol_util', 'sec_app_open_act_il', 'sec_app_num_rev_accts',\n",
        "    'sec_app_chargeoff_within_12_mths', 'sec_app_collections_12_mths_ex_med',\n",
        "    'sec_app_mths_since_last_major_derog',\n",
        "\n",
        "    # status\n",
        "    'loan_status'\n",
        "]"
      ],
      "metadata": {
        "id": "NbOLy3_10xd6"
      },
      "execution_count": 44,
      "outputs": []
    },
    {
      "cell_type": "code",
      "source": [
        "model_df = pd.read_csv(\"/content/drive/My Drive/lending_club_data/accepted_2007_to_2018Q4.csv\",low_memory=False,usecols=model_features)"
      ],
      "metadata": {
        "id": "VvCFPwQXxKYq"
      },
      "execution_count": 45,
      "outputs": []
    },
    {
      "cell_type": "markdown",
      "source": [
        "### Feature Engineering"
      ],
      "metadata": {
        "id": "qJiT_iPz6HGJ"
      }
    },
    {
      "cell_type": "markdown",
      "source": [
        "Credit Utilization and Ratios."
      ],
      "metadata": {
        "id": "6DoGj-un6XD_"
      }
    },
    {
      "cell_type": "code",
      "source": [
        "model_df['credit_card_util_pct'] = model_df['revol_bal'] / (model_df['total_rev_hi_lim'] + 1)\n",
        "model_df['installment_income_ratio'] = model_df['installment'] / (model_df['annual_inc'] + 1)\n",
        "model_df['loan_amount_income_ratio'] = model_df['loan_amnt'] / (model_df['annual_inc'] + 1)"
      ],
      "metadata": {
        "id": "26t_xOET6PhY"
      },
      "execution_count": 46,
      "outputs": []
    },
    {
      "cell_type": "markdown",
      "source": [
        "Delinquency & Derogatory Flags"
      ],
      "metadata": {
        "id": "a22tqq-D6Y-v"
      }
    },
    {
      "cell_type": "code",
      "source": [
        "model_df['had_recent_major_derog'] = (model_df['mths_since_last_major_derog'] < 12).astype(int)\n",
        "model_df['delinq_flag'] = (model_df['mths_since_last_delinq'] < 12).astype(int)\n",
        "model_df['bankruptcy_flag'] = (model_df['pub_rec_bankruptcies'] > 0).astype(int)\n",
        "model_df['historical_delinquency_rate'] = model_df['delinq_2yrs'] / (model_df['total_acc'] + 1)"
      ],
      "metadata": {
        "id": "hEXg_JTA6df0"
      },
      "execution_count": 47,
      "outputs": []
    },
    {
      "cell_type": "markdown",
      "source": [
        "Behavioral Indicators"
      ],
      "metadata": {
        "id": "B5JLFHUx6uO5"
      }
    },
    {
      "cell_type": "code",
      "source": [
        "model_df['recent_open_accs'] = (\n",
        "    model_df[['open_acc_6m', 'open_il_12m', 'open_il_24m', 'open_rv_12m', 'open_rv_24m']]\n",
        "    .sum(axis=1, skipna=True)\n",
        ")"
      ],
      "metadata": {
        "id": "bfa8qWJv68X8"
      },
      "execution_count": 48,
      "outputs": []
    },
    {
      "cell_type": "code",
      "source": [
        "model_df['recent_inquiries_sum'] = (\n",
        "    model_df[['inq_last_6mths', 'inq_fi', 'inq_last_12m', 'sec_app_inq_last_6mths']]\n",
        "    .sum(axis=1, skipna=True)\n",
        ")"
      ],
      "metadata": {
        "id": "cCLbjV7S7GA3"
      },
      "execution_count": 49,
      "outputs": []
    },
    {
      "cell_type": "markdown",
      "source": [
        "Interaction Features"
      ],
      "metadata": {
        "id": "46tnmJbO7HhP"
      }
    },
    {
      "cell_type": "code",
      "source": [
        "model_df['is_major_derog_and_util_high'] = (\n",
        "    ((model_df['mths_since_last_major_derog'] < 12) & (model_df['revol_util'] > 80))\n",
        ").astype(int)"
      ],
      "metadata": {
        "id": "mtVx3r9q7ZfN"
      },
      "execution_count": 50,
      "outputs": []
    },
    {
      "cell_type": "code",
      "source": [
        "model_df['desc_contains_debt'] = model_df['desc'].fillna('').str.contains(r'debt', case=False).astype(int)"
      ],
      "metadata": {
        "id": "CqvMZSxj7vwT"
      },
      "execution_count": 51,
      "outputs": []
    },
    {
      "cell_type": "markdown",
      "source": [
        "### Cleaning"
      ],
      "metadata": {
        "id": "9OlxEe-v8Rr-"
      }
    },
    {
      "cell_type": "code",
      "execution_count": 52,
      "metadata": {
        "id": "SEvwwWVYEcMf"
      },
      "outputs": [],
      "source": [
        "keep_statuses = [\n",
        "    'Fully Paid', 'Charged Off', 'Default',\n",
        "    'Does not meet the credit policy. Status: Fully Paid',\n",
        "    'Does not meet the credit policy. Status: Charged Off'\n",
        "]\n",
        "\n",
        "model_df = model_df[model_df['loan_status'].isin(keep_statuses)]\n",
        "\n",
        "default_statuses = ['Charged Off', 'Default', 'Does not meet the credit policy. Status: Charged Off']\n",
        "\n",
        "model_df['loan_status'] = model_df['loan_status'].apply(lambda x: 1 if x in default_statuses else 0)"
      ]
    },
    {
      "cell_type": "code",
      "execution_count": 53,
      "metadata": {
        "id": "EWMqwjYQLhpu"
      },
      "outputs": [],
      "source": [
        "model_df['home_ownership'] = model_df['home_ownership'].replace({'ANY': 'OTHER', 'NONE': 'OTHER', 'OTHER': 'OTHER'})"
      ]
    },
    {
      "cell_type": "markdown",
      "source": [
        "### Encoding and transformations"
      ],
      "metadata": {
        "id": "AM60Qs4m8XdJ"
      }
    },
    {
      "cell_type": "code",
      "execution_count": 54,
      "metadata": {
        "id": "JchlKzQASfxA"
      },
      "outputs": [],
      "source": [
        "one_hot_cols = ['verification_status','home_ownership','purpose']\n",
        "model_df = pd.get_dummies(model_df,columns=one_hot_cols,drop_first=True)"
      ]
    },
    {
      "cell_type": "code",
      "execution_count": 55,
      "metadata": {
        "id": "TiZ7lW6lVq34"
      },
      "outputs": [],
      "source": [
        "emp_map = {\n",
        "    '< 1 year': 0,\n",
        "    '1 year': 1, '2 years': 2, '3 years': 3, '4 years': 4,\n",
        "    '5 years': 5, '6 years': 6, '7 years': 7, '8 years': 8,\n",
        "    '9 years': 9, '10+ years': 10\n",
        "}\n",
        "model_df['emp_length'] = model_df['emp_length'].map(emp_map)"
      ]
    },
    {
      "cell_type": "code",
      "execution_count": 56,
      "metadata": {
        "id": "S-sTbbv4Z81l"
      },
      "outputs": [],
      "source": [
        "model_df['application_type'] = model_df['application_type'].map({'Individual' : 0,'Joint App':1})\n",
        "model_df['term'] = model_df['term'].map({' 36 months' : 0, ' 60 months' : 1})"
      ]
    },
    {
      "cell_type": "code",
      "execution_count": 57,
      "metadata": {
        "id": "ZWNVEU8cHoaZ"
      },
      "outputs": [],
      "source": [
        "model_df = model_df[model_df['dti']>0]"
      ]
    },
    {
      "cell_type": "code",
      "execution_count": 58,
      "metadata": {
        "id": "sSAAV7Dsj_io",
        "colab": {
          "base_uri": "https://localhost:8080/"
        },
        "outputId": "a1697efc-32a6-4f09-e1f7-8d6cf9c0cbae"
      },
      "outputs": [
        {
          "output_type": "stream",
          "name": "stderr",
          "text": [
            "/tmp/ipython-input-58-731542170.py:2: SettingWithCopyWarning: \n",
            "A value is trying to be set on a copy of a slice from a DataFrame.\n",
            "Try using .loc[row_indexer,col_indexer] = value instead\n",
            "\n",
            "See the caveats in the documentation: https://pandas.pydata.org/pandas-docs/stable/user_guide/indexing.html#returning-a-view-versus-a-copy\n",
            "  model_df['addr_state_freq'] = model_df['addr_state'].map(addr_freq)\n"
          ]
        }
      ],
      "source": [
        "addr_freq = model_df['addr_state'].value_counts(normalize=True)\n",
        "model_df['addr_state_freq'] = model_df['addr_state'].map(addr_freq)\n",
        "model_df = model_df.drop(columns=['addr_state'])"
      ]
    },
    {
      "cell_type": "code",
      "execution_count": 59,
      "metadata": {
        "id": "3PHjZETNf0oR"
      },
      "outputs": [],
      "source": [
        "subgrade_order = []\n",
        "for g_idx, g in enumerate(['A', 'B', 'C', 'D', 'E', 'F', 'G'], 1):\n",
        "    for s in range(1, 6):\n",
        "        subgrade_order.append(f\"{g}{s}\")\n",
        "\n",
        "subgrade_float_map = {sg: float(f\"{g_idx}.{s}\") for sg, (g_idx, s) in zip(subgrade_order, [(i//5 + 1, i%5 + 1) for i in range(35)])}\n",
        "\n",
        "model_df['sub_grade'] = model_df['sub_grade'].map(subgrade_float_map)\n",
        "\n"
      ]
    },
    {
      "cell_type": "code",
      "execution_count": 60,
      "metadata": {
        "id": "IBXn1vGWkR6d"
      },
      "outputs": [],
      "source": [
        "model_df = model_df.drop(columns=['grade'])"
      ]
    },
    {
      "cell_type": "code",
      "execution_count": 61,
      "metadata": {
        "colab": {
          "base_uri": "https://localhost:8080/",
          "height": 178
        },
        "id": "iEF-EQctD-II",
        "outputId": "dd059631-f298-4e16-c083-6c22f9c5d54c"
      },
      "outputs": [
        {
          "output_type": "execute_result",
          "data": {
            "text/plain": [
              "revol_util\n",
              "False    1339430\n",
              "True        4685\n",
              "Name: count, dtype: int64"
            ],
            "text/html": [
              "<div>\n",
              "<style scoped>\n",
              "    .dataframe tbody tr th:only-of-type {\n",
              "        vertical-align: middle;\n",
              "    }\n",
              "\n",
              "    .dataframe tbody tr th {\n",
              "        vertical-align: top;\n",
              "    }\n",
              "\n",
              "    .dataframe thead th {\n",
              "        text-align: right;\n",
              "    }\n",
              "</style>\n",
              "<table border=\"1\" class=\"dataframe\">\n",
              "  <thead>\n",
              "    <tr style=\"text-align: right;\">\n",
              "      <th></th>\n",
              "      <th>count</th>\n",
              "    </tr>\n",
              "    <tr>\n",
              "      <th>revol_util</th>\n",
              "      <th></th>\n",
              "    </tr>\n",
              "  </thead>\n",
              "  <tbody>\n",
              "    <tr>\n",
              "      <th>False</th>\n",
              "      <td>1339430</td>\n",
              "    </tr>\n",
              "    <tr>\n",
              "      <th>True</th>\n",
              "      <td>4685</td>\n",
              "    </tr>\n",
              "  </tbody>\n",
              "</table>\n",
              "</div><br><label><b>dtype:</b> int64</label>"
            ]
          },
          "metadata": {},
          "execution_count": 61
        }
      ],
      "source": [
        "(model_df['revol_util']>100).value_counts()"
      ]
    },
    {
      "cell_type": "markdown",
      "metadata": {
        "id": "wkRS4FMgIx_I"
      },
      "source": [
        "Values over 100% are often invalid, noisy, or result from data entry errors so, we gonna clip them."
      ]
    },
    {
      "cell_type": "code",
      "execution_count": 62,
      "metadata": {
        "id": "d60dKVuiGYnP"
      },
      "outputs": [],
      "source": [
        "model_df['revol_util'] = model_df['revol_util'].clip(upper=100)"
      ]
    },
    {
      "cell_type": "code",
      "source": [
        "(model_df['fico_range_high'] - model_df['fico_range_low']).value_counts()\n"
      ],
      "metadata": {
        "colab": {
          "base_uri": "https://localhost:8080/",
          "height": 147
        },
        "id": "NdHHUNBMCEI3",
        "outputId": "305cf2b4-7475-4abf-b057-365c270bfe9b"
      },
      "execution_count": 63,
      "outputs": [
        {
          "output_type": "execute_result",
          "data": {
            "text/plain": [
              "4.0    1343930\n",
              "5.0        185\n",
              "Name: count, dtype: int64"
            ],
            "text/html": [
              "<div>\n",
              "<style scoped>\n",
              "    .dataframe tbody tr th:only-of-type {\n",
              "        vertical-align: middle;\n",
              "    }\n",
              "\n",
              "    .dataframe tbody tr th {\n",
              "        vertical-align: top;\n",
              "    }\n",
              "\n",
              "    .dataframe thead th {\n",
              "        text-align: right;\n",
              "    }\n",
              "</style>\n",
              "<table border=\"1\" class=\"dataframe\">\n",
              "  <thead>\n",
              "    <tr style=\"text-align: right;\">\n",
              "      <th></th>\n",
              "      <th>count</th>\n",
              "    </tr>\n",
              "  </thead>\n",
              "  <tbody>\n",
              "    <tr>\n",
              "      <th>4.0</th>\n",
              "      <td>1343930</td>\n",
              "    </tr>\n",
              "    <tr>\n",
              "      <th>5.0</th>\n",
              "      <td>185</td>\n",
              "    </tr>\n",
              "  </tbody>\n",
              "</table>\n",
              "</div><br><label><b>dtype:</b> int64</label>"
            ]
          },
          "metadata": {},
          "execution_count": 63
        }
      ]
    },
    {
      "cell_type": "code",
      "source": [
        "model_df['fico_score'] = (model_df['fico_range_low'] + model_df['fico_range_high']) / 2\n",
        "model_df.drop(['fico_range_low', 'fico_range_high'], axis=1, inplace=True)"
      ],
      "metadata": {
        "id": "TqJrmcqUCopw"
      },
      "execution_count": 64,
      "outputs": []
    },
    {
      "cell_type": "markdown",
      "source": [
        "Fico too DTI ratio"
      ],
      "metadata": {
        "id": "YgRebaoB9nkA"
      }
    },
    {
      "cell_type": "code",
      "source": [
        "model_df['fico_dti_ratio'] = model_df['fico_score'] / (1 + model_df['dti'])"
      ],
      "metadata": {
        "id": "F0qvRMnT9k7m"
      },
      "execution_count": 65,
      "outputs": []
    },
    {
      "cell_type": "markdown",
      "metadata": {
        "id": "WUrSn8s4Lznv"
      },
      "source": [
        "log transform skewed features."
      ]
    },
    {
      "cell_type": "code",
      "execution_count": 66,
      "metadata": {
        "id": "gF936hoXJAZu"
      },
      "outputs": [],
      "source": [
        "model_df['annual_inc_log'] = np.log1p(model_df['annual_inc'])\n",
        "model_df = model_df.drop(columns=['annual_inc'])"
      ]
    },
    {
      "cell_type": "code",
      "execution_count": 67,
      "metadata": {
        "id": "Ityf-Jp8JnSC"
      },
      "outputs": [],
      "source": [
        "model_df['dti_log'] = np.log1p(model_df['dti'])\n",
        "model_df = model_df.drop(columns=['dti'])"
      ]
    },
    {
      "cell_type": "markdown",
      "metadata": {
        "id": "5hkR9mRoMcoV"
      },
      "source": [
        "**collections_12_mths_ex_med** Skewed and peaky, but many zero. bining will be better option."
      ]
    },
    {
      "cell_type": "code",
      "execution_count": 68,
      "metadata": {
        "colab": {
          "base_uri": "https://localhost:8080/"
        },
        "id": "cB8rdf3cMKbs",
        "outputId": "6009ec40-9b9b-44f7-d730-edfc7610fd02"
      },
      "outputs": [
        {
          "output_type": "execute_result",
          "data": {
            "text/plain": [
              "np.int64(54)"
            ]
          },
          "metadata": {},
          "execution_count": 68
        }
      ],
      "source": [
        "model_df['collections_12_mths_ex_med'].isnull().sum()"
      ]
    },
    {
      "cell_type": "code",
      "source": [
        "model_df['collections_12_mths_ex_med'] = model_df['collections_12_mths_ex_med'].fillna(0)"
      ],
      "metadata": {
        "id": "_wRZ-nzfBLcJ"
      },
      "execution_count": 69,
      "outputs": []
    },
    {
      "cell_type": "code",
      "execution_count": 70,
      "metadata": {
        "id": "GC4yJ_KfNDNg"
      },
      "outputs": [],
      "source": [
        "model_df['collections_bins'] = pd.cut(model_df['collections_12_mths_ex_med'],\n",
        "                                      bins=[-1,0,1,np.inf],\n",
        "                                      labels=[0,1,2]).astype(int)\n",
        "model_df.drop(columns=['collections_12_mths_ex_med'], inplace=True)"
      ]
    },
    {
      "cell_type": "markdown",
      "source": [
        "The difference is not much so, we'll use just average."
      ],
      "metadata": {
        "id": "So17zAhQCfK7"
      }
    },
    {
      "cell_type": "code",
      "source": [
        "model_df['revol_bal_log'] = np.log1p(model_df['revol_bal'])\n",
        "model_df = model_df.drop(columns=['revol_bal'])"
      ],
      "metadata": {
        "id": "7XprzSeZC1YE"
      },
      "execution_count": 71,
      "outputs": []
    },
    {
      "cell_type": "code",
      "source": [
        "model_df['tot_coll_amt'].skew()"
      ],
      "metadata": {
        "colab": {
          "base_uri": "https://localhost:8080/"
        },
        "id": "PuRNnkqEENFe",
        "outputId": "28762dd9-267b-4e9c-e8fa-b63e72bbc98f"
      },
      "execution_count": 72,
      "outputs": [
        {
          "output_type": "execute_result",
          "data": {
            "text/plain": [
              "np.float64(670.3283453309389)"
            ]
          },
          "metadata": {},
          "execution_count": 72
        }
      ]
    },
    {
      "cell_type": "code",
      "source": [
        "model_df['tot_coll_amt_log'] = np.log1p(model_df['tot_coll_amt'])\n",
        "model_df = model_df.drop(columns=['tot_coll_amt'])"
      ],
      "metadata": {
        "id": "6L7Vb8kKENCT"
      },
      "execution_count": 73,
      "outputs": []
    },
    {
      "cell_type": "code",
      "source": [
        "model_df['tot_cur_bal'].skew()"
      ],
      "metadata": {
        "colab": {
          "base_uri": "https://localhost:8080/"
        },
        "id": "nb1SEyD7ENAY",
        "outputId": "a166407e-e2ff-4255-9313-31aa6c1cae0b"
      },
      "execution_count": 74,
      "outputs": [
        {
          "output_type": "execute_result",
          "data": {
            "text/plain": [
              "np.float64(2.9012336564938908)"
            ]
          },
          "metadata": {},
          "execution_count": 74
        }
      ]
    },
    {
      "cell_type": "code",
      "source": [
        "model_df['tot_cur_bal_log'] = np.log1p(model_df['tot_cur_bal'])\n",
        "model_df = model_df.drop(columns=['tot_cur_bal'])"
      ],
      "metadata": {
        "id": "HDegaEz9EM-P"
      },
      "execution_count": 75,
      "outputs": []
    },
    {
      "cell_type": "code",
      "source": [
        "from datetime import datetime\n",
        "\n",
        "model_df['earliest_cr_line'] = pd.to_datetime(model_df['earliest_cr_line'],format='%b-%Y', errors='coerce')\n",
        "model_df['issue_d'] = pd.to_datetime(model_df['issue_d'],format='%b-%Y', errors='coerce')\n",
        "\n",
        "model_df['account_age_days'] = (model_df['issue_d'] - model_df['earliest_cr_line']).dt.days\n",
        "model_df['account_age_years'] = model_df['account_age_days'] / 365.25\n"
      ],
      "metadata": {
        "id": "xJItrj0YEM7s"
      },
      "execution_count": 76,
      "outputs": []
    },
    {
      "cell_type": "code",
      "source": [
        "model_df['sec_app_earliest_cr_line'] = pd.to_datetime(model_df['sec_app_earliest_cr_line'], format='%b-%Y', errors='coerce')\n",
        "\n",
        "\n",
        "model_df['sec_app_credit_age_days'] = (model_df['issue_d'] - model_df['sec_app_earliest_cr_line']).dt.days\n",
        "model_df['sec_app_credit_age_years'] = model_df['sec_app_credit_age_days'] / 365.25\n"
      ],
      "metadata": {
        "id": "sON-AVd3iLuk"
      },
      "execution_count": 77,
      "outputs": []
    },
    {
      "cell_type": "code",
      "source": [
        "model_df.drop(['earliest_cr_line', 'issue_d','account_age_days','sec_app_earliest_cr_line','sec_app_credit_age_days'], axis=1, inplace=True)"
      ],
      "metadata": {
        "id": "OVsHQqRsEM1u"
      },
      "execution_count": 78,
      "outputs": []
    },
    {
      "cell_type": "code",
      "source": [
        "model_df['annual_inc_joint_log'] = np.log1p(model_df['annual_inc_joint'])\n",
        "model_df['dti_joint_log'] = np.log1p(model_df['dti_joint'])\n",
        "\n",
        "model_df = model_df.drop(columns=['annual_inc_joint','dti_joint'])"
      ],
      "metadata": {
        "id": "ZdiusgtFUg4J"
      },
      "execution_count": 79,
      "outputs": []
    },
    {
      "cell_type": "code",
      "source": [
        "model_df = pd.get_dummies(model_df,columns=['verification_status_joint'],dummy_na=True)"
      ],
      "metadata": {
        "id": "pFN75pQCPBJs"
      },
      "execution_count": 80,
      "outputs": []
    },
    {
      "cell_type": "code",
      "source": [
        "model_df['revol_bal_joint_log'] = np.log1p(model_df['revol_bal_joint'])\n",
        "model_df = model_df.drop(columns=['revol_bal_joint'])"
      ],
      "metadata": {
        "id": "hjD0C68iPBBY"
      },
      "execution_count": 81,
      "outputs": []
    },
    {
      "cell_type": "code",
      "source": [
        "model_df['sec_app_fico_score'] = (model_df['sec_app_fico_range_low'] + model_df['sec_app_fico_range_high']) / 2\n",
        "model_df.drop(['sec_app_fico_range_low', 'sec_app_fico_range_high'], axis=1, inplace=True)"
      ],
      "metadata": {
        "id": "HIV-b4lmPA-A"
      },
      "execution_count": 82,
      "outputs": []
    },
    {
      "cell_type": "code",
      "source": [
        "model_df['sec_app_revol_util'] = model_df['sec_app_revol_util'].clip(upper=100)"
      ],
      "metadata": {
        "id": "Il5HUJAUPA8B"
      },
      "execution_count": 83,
      "outputs": []
    },
    {
      "cell_type": "code",
      "source": [
        "model_df['sec_app_collections_bins'] = pd.cut(\n",
        "    model_df['sec_app_collections_12_mths_ex_med'],\n",
        "    bins=[-1, 0, 1, np.inf],\n",
        "    labels=[0, 1, 2]\n",
        ")\n",
        "\n",
        "# convert labels to integers, preserving NaN\n",
        "model_df['sec_app_collections_bins'] = model_df['sec_app_collections_bins'].astype('float')\n",
        "\n",
        "model_df.drop(columns=['sec_app_collections_12_mths_ex_med'], inplace=True)\n"
      ],
      "metadata": {
        "id": "ZeVQf6HBPA5p"
      },
      "execution_count": 84,
      "outputs": []
    },
    {
      "cell_type": "code",
      "source": [
        "emp_title_counts = model_df['emp_title'].value_counts()\n",
        "model_df['emp_title_freq'] = model_df['emp_title'].map(emp_title_counts)"
      ],
      "metadata": {
        "id": "u0GIv-zvvbjV"
      },
      "execution_count": 85,
      "outputs": []
    },
    {
      "cell_type": "code",
      "source": [
        "model_df.drop(columns=['emp_title'], inplace=True)"
      ],
      "metadata": {
        "id": "S4MgaWNsvdxH"
      },
      "execution_count": 86,
      "outputs": []
    },
    {
      "cell_type": "code",
      "source": [
        "model_df['has_desc'] = model_df['desc'].notnull().astype(int)\n",
        "\n",
        "default_rate_by_desc = model_df.groupby('has_desc')['loan_status'].agg(['mean', 'count'])\n",
        "default_rate_by_desc.rename(columns={'mean': 'default_rate', 'count': 'num_loans'}, inplace=True)\n",
        "print(default_rate_by_desc)"
      ],
      "metadata": {
        "colab": {
          "base_uri": "https://localhost:8080/"
        },
        "id": "9JF8V8JaEMO7",
        "outputId": "ed155b23-5b40-4559-e0ff-36a8147c39e2"
      },
      "execution_count": 87,
      "outputs": [
        {
          "output_type": "stream",
          "name": "stdout",
          "text": [
            "          default_rate  num_loans\n",
            "has_desc                         \n",
            "0             0.204342    1220756\n",
            "1             0.153268     123359\n"
          ]
        }
      ]
    },
    {
      "cell_type": "markdown",
      "source": [
        "\n",
        "\n",
        "*   Only 9% of the applications have description.\n",
        "*   Borrowers who wrote a description defaulted less by ~5 percentage points.\n",
        "\n"
      ],
      "metadata": {
        "id": "O_XVIl6N2NlF"
      }
    },
    {
      "cell_type": "code",
      "source": [
        "model_df.drop(columns=['desc'], inplace=True)"
      ],
      "metadata": {
        "id": "NNdMFBb8jxx3"
      },
      "execution_count": 88,
      "outputs": []
    },
    {
      "cell_type": "markdown",
      "source": [
        "### More features"
      ],
      "metadata": {
        "id": "GvXss5cZ8lP6"
      }
    },
    {
      "cell_type": "markdown",
      "source": [
        "Flaging missing value features that are important."
      ],
      "metadata": {
        "id": "ucY1cUQ6Ee3U"
      }
    },
    {
      "cell_type": "code",
      "source": [
        "model_df['inq_last_6mths_missing'] = model_df['inq_last_6mths'].isna().astype(int)\n",
        "model_df['mths_since_last_delinq_missing'] = model_df['mths_since_last_delinq'].isna().astype(int)\n",
        "model_df['mths_since_last_record_missing'] = model_df['mths_since_last_record'].isna().astype(int)\n",
        "model_df['revol_util_missing'] = model_df['revol_util'].isna().astype(int)\n",
        "model_df['mths_since_last_major_derog_missing'] = model_df['mths_since_last_major_derog'].isna().astype(int)\n",
        "model_df['num_tl_90g_dpd_24m_missing'] = model_df['num_tl_90g_dpd_24m'].isna().astype(int)"
      ],
      "metadata": {
        "id": "8smrF13XEFDH"
      },
      "execution_count": 89,
      "outputs": []
    },
    {
      "cell_type": "markdown",
      "source": [
        "### Store cleaned data Frame"
      ],
      "metadata": {
        "id": "3yln4H1k9FFR"
      }
    },
    {
      "cell_type": "code",
      "source": [
        "model_df.to_parquet('/content/drive/MyDrive/model_df.parquet')"
      ],
      "metadata": {
        "id": "N7nr7XOw3j-i"
      },
      "execution_count": 91,
      "outputs": []
    }
  ]
}